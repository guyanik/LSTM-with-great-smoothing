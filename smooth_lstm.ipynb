{
  "cells": [
    {
      "cell_type": "code",
      "execution_count": 1,
      "metadata": {
        "id": "NeWVBhf1VxlH"
      },
      "outputs": [],
      "source": [
        "# this notebook should be run on Google Colab\n",
        "# matplotlib and seaborn used for plotting graphs\n",
        "import warnings\n",
        "import random\n",
        "import numpy as np\n",
        "import pandas as pd\n",
        "import matplotlib.pyplot as plt\n",
        "from keras.models import Sequential\n",
        "from keras.layers import Activation, Dense, Dropout, LSTM\n",
        "from sklearn.metrics import mean_absolute_percentage_error\n",
        "from scipy.signal import savgol_filter\n",
        "from scipy.stats import zscore\n",
        "from scipy.interpolate import pchip_interpolate\n",
        "%matplotlib inline\n",
        "\n",
        "warnings.filterwarnings(\"ignore\")"
      ]
    },
    {
      "cell_type": "code",
      "execution_count": 2,
      "metadata": {},
      "outputs": [],
      "source": [
        "def watt_to_dbm(df, target_column = 'power'):\n",
        "    df['dbm'] = ((10*np.log10(df[target_column]) + 30)) # convert watts to dbm\n",
        "\n",
        "    # df['dbm'].replace(np.nan, 0.0, inplace=True)\n",
        "    min_without_inf = np.nanmin(df['dbm'][df['dbm'] != -np.inf])\n",
        "    df['dbm'].replace(-np.inf, min_without_inf, inplace=True)\n"
      ]
    },
    {
      "cell_type": "code",
      "execution_count": 3,
      "metadata": {},
      "outputs": [],
      "source": [
        "# rolling zscore function\n",
        "def rolling_zscore(df, window = 5):\n",
        "    std = df.rolling(window = window).std()\n",
        "    mean = df.rolling(window = window).mean()\n",
        "    z = (df - mean) / std\n",
        "    return z\n"
      ]
    },
    {
      "cell_type": "code",
      "execution_count": 4,
      "metadata": {
        "id": "S1bDVliFFIKf"
      },
      "outputs": [],
      "source": [
        "def smooth(df, window = 5, threshold = 1.0, target_column = 'dbm'):\n",
        "    # std = df.rolling(window = window).std()\n",
        "    # mean = df.rolling(window = window).mean()\n",
        "    # print(std, mean)\n",
        " \n",
        "    z = df.apply(lambda x: 0 if np.std(x) == 0 else rolling_zscore(x, window = window))\n",
        "\n",
        "    print(df['id'].iloc[0], ' - ', df['tx'].iloc[0], '- z_min:', z[target_column].min(), 'z_max:', z[target_column].max())\n",
        "\n",
        "    mask = (z[target_column] < -threshold) | (z[target_column] > threshold)\n",
        "    df[f'{target_column}_copy'] = df[target_column]\n",
        "    df.loc[mask, f'{target_column}_copy'] = np.nan\n",
        "    df['interpolated'] = df[f'{target_column}_copy'].interpolate(method = 'cubic').astype(float)\n",
        "    df['interpolated'].fillna(df[target_column], inplace = True)\n",
        "    df['smooth'] = df[['interpolated']].apply(savgol_filter, window_length=101, polyorder=1)\n",
        "    df['smooth'].fillna(df['interpolated'], inplace = True)\n",
        "    df.drop([f'{target_column}_copy', 'interpolated'], axis = 1, inplace = True)\n",
        "    return df   \n"
      ]
    },
    {
      "cell_type": "code",
      "execution_count": 10,
      "metadata": {
        "_cell_guid": "79c7e3d0-c299-4dcb-8224-4455121ee9b0",
        "_uuid": "d629ff2d2480ee46fbb7e2d37f6b5fab8052498a",
        "colab": {
          "base_uri": "https://localhost:8080/",
          "height": 1000
        },
        "id": "6W__OM92pskF",
        "outputId": "58574a81-16e2-47a5-8fd1-691918903dad"
      },
      "outputs": [
        {
          "name": "stdout",
          "output_type": "stream",
          "text": [
            "time     float64\n",
            "id         int64\n",
            "power    float64\n",
            "lon      float64\n",
            "lat      float64\n",
            "tx         int64\n",
            "dtype: object\n",
            "1  -  0 - z_min: -1.7873929371616266 z_max: 1.7808038799521337\n",
            "2  -  0 - z_min: -1.7888087300029754 z_max: 1.7863659176851572\n",
            "3  -  0 - z_min: nan z_max: nan\n",
            "4  -  0 - z_min: -1.7883557050185304 z_max: 1.748302399965474\n",
            "5  -  0 - z_min: -1.7854430867723046 z_max: 1.7877833994741539\n",
            "6  -  0 - z_min: nan z_max: nan\n",
            "7  -  0 - z_min: nan z_max: nan\n",
            "8  -  0 - z_min: -1.761257946784198 z_max: 1.7571912018783857\n",
            "9  -  0 - z_min: -1.7886860406653842 z_max: 1.7888435467879755\n",
            "10  -  0 - z_min: nan z_max: nan\n",
            "11  -  0 - z_min: -1.7708610564296938 z_max: 1.7415690236527872\n",
            "12  -  0 - z_min: -1.7883111109758647 z_max: 1.7887820092286366\n",
            "13  -  0 - z_min: -1.7604255913949254 z_max: 1.6690996446252224\n",
            "14  -  0 - z_min: -1.2841276463818938 z_max: -1.2447814461069286\n",
            "15  -  0 - z_min: -1.279112133227707 z_max: -1.2543423722958502\n",
            "16  -  0 - z_min: -1.7813171070822618 z_max: 1.7749901005134074\n",
            "17  -  0 - z_min: -1.2753079553853723 z_max: -1.2523544635611412\n",
            "18  -  0 - z_min: -1.7884343207744107 z_max: 1.7887365674506353\n",
            "19  -  0 - z_min: -1.2691724523746495 z_max: -1.259902299171625\n",
            "20  -  0 - z_min: nan z_max: nan\n",
            "21  -  0 - z_min: -1.271750043243891 z_max: -1.2562504469385463\n",
            "22  -  0 - z_min: -1.7888467428444588 z_max: 1.777949074776759\n",
            "23  -  0 - z_min: -1.7887658881302648 z_max: 1.7871314607689692\n",
            "24  -  0 - z_min: -1.7883373910723974 z_max: 1.7887831288340679\n",
            "25  -  0 - z_min: nan z_max: nan\n",
            "26  -  0 - z_min: -1.7774344315915265 z_max: 1.7818382281282128\n",
            "27  -  0 - z_min: -1.6613714384122549 z_max: 1.560842628491182\n",
            "28  -  0 - z_min: -1.7849476218752998 z_max: 1.788077686808156\n",
            "29  -  0 - z_min: nan z_max: nan\n",
            "30  -  0 - z_min: -1.5102261649227113 z_max: 1.663961234701196\n",
            "31  -  0 - z_min: -1.7109520572535588 z_max: 1.7888520784505146\n",
            "32  -  0 - z_min: -1.473010231638906 z_max: 1.7222480962003277\n",
            "33  -  0 - z_min: -1.78884943930339 z_max: 1.7888174861300665\n",
            "34  -  0 - z_min: -1.7881564881088652 z_max: 1.7874732072017099\n",
            "35  -  0 - z_min: -1.7887483913674735 z_max: 1.7887443446821412\n",
            "36  -  0 - z_min: -1.67709029509096 z_max: 1.7729345341355591\n",
            "37  -  0 - z_min: -1.78885002604997 z_max: 1.6270573137918667\n",
            "38  -  0 - z_min: -1.786330495393131 z_max: 1.697344281482219\n",
            "39  -  0 - z_min: -1.788720006356421 z_max: 1.788679606612138\n",
            "40  -  0 - z_min: -1.7880074270542687 z_max: 1.7888296029605066\n",
            "41  -  0 - z_min: -1.7835412078482211 z_max: 1.7231169688114027\n",
            "42  -  0 - z_min: nan z_max: nan\n",
            "43  -  0 - z_min: -1.7352756542544285 z_max: 1.788269391513948\n",
            "44  -  0 - z_min: -1.473173930259505 z_max: 1.303536591499477\n",
            "45  -  0 - z_min: -1.788688026403362 z_max: 1.7887638917851976\n",
            "46  -  0 - z_min: -1.7820430160944356 z_max: 1.7888048612987073\n",
            "47  -  0 - z_min: 1.2660013362533669 z_max: 1.2676350950353958\n",
            "48  -  0 - z_min: -1.7879815197699294 z_max: 1.7888520772738055\n",
            "49  -  0 - z_min: -1.787112771585236 z_max: 1.745370872019808\n",
            "50  -  0 - z_min: -1.7747014393960026 z_max: 1.7785466010574698\n",
            "51  -  0 - z_min: -1.7883963817343014 z_max: 1.782501774581743\n",
            "52  -  0 - z_min: -1.7871426399038157 z_max: 1.6768265648030167\n",
            "53  -  0 - z_min: -1.7809277072499554 z_max: 1.7435041124610338\n",
            "54  -  0 - z_min: -1.7885373914748315 z_max: 1.7856769770136478\n",
            "55  -  0 - z_min: -1.7883845221503836 z_max: 1.7511374079761473\n",
            "-164.94091111957093\n"
          ]
        },
        {
          "data": {
            "text/html": [
              "<div>\n",
              "<style scoped>\n",
              "    .dataframe tbody tr th:only-of-type {\n",
              "        vertical-align: middle;\n",
              "    }\n",
              "\n",
              "    .dataframe tbody tr th {\n",
              "        vertical-align: top;\n",
              "    }\n",
              "\n",
              "    .dataframe thead th {\n",
              "        text-align: right;\n",
              "    }\n",
              "</style>\n",
              "<table border=\"1\" class=\"dataframe\">\n",
              "  <thead>\n",
              "    <tr style=\"text-align: right;\">\n",
              "      <th></th>\n",
              "      <th>time</th>\n",
              "      <th>id</th>\n",
              "      <th>lon</th>\n",
              "      <th>lat</th>\n",
              "      <th>smooth</th>\n",
              "    </tr>\n",
              "  </thead>\n",
              "  <tbody>\n",
              "    <tr>\n",
              "      <th>0</th>\n",
              "      <td>0.00</td>\n",
              "      <td>1</td>\n",
              "      <td>3.057220</td>\n",
              "      <td>50.631858</td>\n",
              "      <td>-102.390289</td>\n",
              "    </tr>\n",
              "    <tr>\n",
              "      <th>1</th>\n",
              "      <td>0.02</td>\n",
              "      <td>1</td>\n",
              "      <td>3.057220</td>\n",
              "      <td>50.631858</td>\n",
              "      <td>-102.164882</td>\n",
              "    </tr>\n",
              "    <tr>\n",
              "      <th>2</th>\n",
              "      <td>0.04</td>\n",
              "      <td>1</td>\n",
              "      <td>3.057220</td>\n",
              "      <td>50.631858</td>\n",
              "      <td>-101.939476</td>\n",
              "    </tr>\n",
              "    <tr>\n",
              "      <th>3</th>\n",
              "      <td>0.06</td>\n",
              "      <td>1</td>\n",
              "      <td>3.057220</td>\n",
              "      <td>50.631858</td>\n",
              "      <td>-101.714070</td>\n",
              "    </tr>\n",
              "    <tr>\n",
              "      <th>4</th>\n",
              "      <td>0.08</td>\n",
              "      <td>1</td>\n",
              "      <td>3.057220</td>\n",
              "      <td>50.631858</td>\n",
              "      <td>-101.488663</td>\n",
              "    </tr>\n",
              "    <tr>\n",
              "      <th>...</th>\n",
              "      <td>...</td>\n",
              "      <td>...</td>\n",
              "      <td>...</td>\n",
              "      <td>...</td>\n",
              "      <td>...</td>\n",
              "    </tr>\n",
              "    <tr>\n",
              "      <th>27495</th>\n",
              "      <td>9.90</td>\n",
              "      <td>55</td>\n",
              "      <td>3.069958</td>\n",
              "      <td>50.636960</td>\n",
              "      <td>-76.589587</td>\n",
              "    </tr>\n",
              "    <tr>\n",
              "      <th>27496</th>\n",
              "      <td>9.92</td>\n",
              "      <td>55</td>\n",
              "      <td>3.069958</td>\n",
              "      <td>50.636960</td>\n",
              "      <td>-76.463745</td>\n",
              "    </tr>\n",
              "    <tr>\n",
              "      <th>27497</th>\n",
              "      <td>9.94</td>\n",
              "      <td>55</td>\n",
              "      <td>3.069958</td>\n",
              "      <td>50.636960</td>\n",
              "      <td>-76.337903</td>\n",
              "    </tr>\n",
              "    <tr>\n",
              "      <th>27498</th>\n",
              "      <td>9.96</td>\n",
              "      <td>55</td>\n",
              "      <td>3.069958</td>\n",
              "      <td>50.636960</td>\n",
              "      <td>-76.212060</td>\n",
              "    </tr>\n",
              "    <tr>\n",
              "      <th>27499</th>\n",
              "      <td>9.98</td>\n",
              "      <td>55</td>\n",
              "      <td>3.069958</td>\n",
              "      <td>50.636960</td>\n",
              "      <td>-76.086218</td>\n",
              "    </tr>\n",
              "  </tbody>\n",
              "</table>\n",
              "<p>27500 rows × 5 columns</p>\n",
              "</div>"
            ],
            "text/plain": [
              "       time  id       lon        lat      smooth\n",
              "0      0.00   1  3.057220  50.631858 -102.390289\n",
              "1      0.02   1  3.057220  50.631858 -102.164882\n",
              "2      0.04   1  3.057220  50.631858 -101.939476\n",
              "3      0.06   1  3.057220  50.631858 -101.714070\n",
              "4      0.08   1  3.057220  50.631858 -101.488663\n",
              "...     ...  ..       ...        ...         ...\n",
              "27495  9.90  55  3.069958  50.636960  -76.589587\n",
              "27496  9.92  55  3.069958  50.636960  -76.463745\n",
              "27497  9.94  55  3.069958  50.636960  -76.337903\n",
              "27498  9.96  55  3.069958  50.636960  -76.212060\n",
              "27499  9.98  55  3.069958  50.636960  -76.086218\n",
              "\n",
              "[27500 rows x 5 columns]"
            ]
          },
          "execution_count": 10,
          "metadata": {},
          "output_type": "execute_result"
        }
      ],
      "source": [
        "filename = 'data.csv'\n",
        "df = pd.read_csv(filename)\n",
        "print(df.dtypes)\n",
        "\n",
        "watt_to_dbm(df)\n",
        "\n",
        "df_smooth = pd.DataFrame({})\n",
        "for id in sorted(list(set(df['id']))):\n",
        "    for tx in sorted(list(set(df[df['id'] == id]['tx']))):\n",
        "        df_smooth = pd.concat([df_smooth, smooth(df.loc[(df['id'] == id) & (df['tx'] == tx)])])\n",
        "print(np.nanmin(df_smooth['smooth'][df_smooth['smooth'] != -np.inf]))\n",
        "df_smooth = df_smooth.groupby(['time', 'id', 'lon', 'lat'], as_index=False, sort=False)['smooth'].max()\n",
        "min_without_inf = np.nanmin(df_smooth['smooth'][df_smooth['smooth'] != -np.inf])\n",
        "df_smooth['smooth'].replace(-np.inf, min_without_inf, inplace=True)\n",
        "df_smooth.to_csv(filename[:-4] + '_smooth.csv', index = False)\n",
        "df_smooth\n"
      ]
    },
    {
      "cell_type": "code",
      "execution_count": 16,
      "metadata": {},
      "outputs": [
        {
          "name": "stdout",
          "output_type": "stream",
          "text": [
            "-83.3944772890439\n"
          ]
        },
        {
          "data": {
            "text/html": [
              "<div>\n",
              "<style scoped>\n",
              "    .dataframe tbody tr th:only-of-type {\n",
              "        vertical-align: middle;\n",
              "    }\n",
              "\n",
              "    .dataframe tbody tr th {\n",
              "        vertical-align: top;\n",
              "    }\n",
              "\n",
              "    .dataframe thead th {\n",
              "        text-align: right;\n",
              "    }\n",
              "</style>\n",
              "<table border=\"1\" class=\"dataframe\">\n",
              "  <thead>\n",
              "    <tr style=\"text-align: right;\">\n",
              "      <th></th>\n",
              "      <th>time</th>\n",
              "      <th>id</th>\n",
              "      <th>lon</th>\n",
              "      <th>lat</th>\n",
              "      <th>smooth</th>\n",
              "    </tr>\n",
              "  </thead>\n",
              "  <tbody>\n",
              "    <tr>\n",
              "      <th>12003</th>\n",
              "      <td>0.00000</td>\n",
              "      <td>4</td>\n",
              "      <td>3.06863</td>\n",
              "      <td>50.630941</td>\n",
              "      <td>-135.142647</td>\n",
              "    </tr>\n",
              "    <tr>\n",
              "      <th>12004</th>\n",
              "      <td>0.02000</td>\n",
              "      <td>4</td>\n",
              "      <td>3.06863</td>\n",
              "      <td>50.630941</td>\n",
              "      <td>-133.507199</td>\n",
              "    </tr>\n",
              "    <tr>\n",
              "      <th>12005</th>\n",
              "      <td>0.04000</td>\n",
              "      <td>4</td>\n",
              "      <td>3.06863</td>\n",
              "      <td>50.630941</td>\n",
              "      <td>-131.871751</td>\n",
              "    </tr>\n",
              "    <tr>\n",
              "      <th>12006</th>\n",
              "      <td>0.06000</td>\n",
              "      <td>4</td>\n",
              "      <td>3.06863</td>\n",
              "      <td>50.630941</td>\n",
              "      <td>-130.236303</td>\n",
              "    </tr>\n",
              "    <tr>\n",
              "      <th>12007</th>\n",
              "      <td>0.08000</td>\n",
              "      <td>4</td>\n",
              "      <td>3.06863</td>\n",
              "      <td>50.630941</td>\n",
              "      <td>-128.600855</td>\n",
              "    </tr>\n",
              "    <tr>\n",
              "      <th>...</th>\n",
              "      <td>...</td>\n",
              "      <td>...</td>\n",
              "      <td>...</td>\n",
              "      <td>...</td>\n",
              "      <td>...</td>\n",
              "    </tr>\n",
              "    <tr>\n",
              "      <th>15999</th>\n",
              "      <td>79.92000</td>\n",
              "      <td>4</td>\n",
              "      <td>3.06863</td>\n",
              "      <td>50.630941</td>\n",
              "      <td>-135.347266</td>\n",
              "    </tr>\n",
              "    <tr>\n",
              "      <th>16000</th>\n",
              "      <td>79.93999</td>\n",
              "      <td>4</td>\n",
              "      <td>3.06863</td>\n",
              "      <td>50.630941</td>\n",
              "      <td>-135.314153</td>\n",
              "    </tr>\n",
              "    <tr>\n",
              "      <th>16001</th>\n",
              "      <td>79.96000</td>\n",
              "      <td>4</td>\n",
              "      <td>3.06863</td>\n",
              "      <td>50.630941</td>\n",
              "      <td>-135.281041</td>\n",
              "    </tr>\n",
              "    <tr>\n",
              "      <th>16002</th>\n",
              "      <td>79.98000</td>\n",
              "      <td>4</td>\n",
              "      <td>3.06863</td>\n",
              "      <td>50.630941</td>\n",
              "      <td>-135.247928</td>\n",
              "    </tr>\n",
              "    <tr>\n",
              "      <th>16003</th>\n",
              "      <td>80.00000</td>\n",
              "      <td>4</td>\n",
              "      <td>3.06863</td>\n",
              "      <td>50.630941</td>\n",
              "      <td>-135.214815</td>\n",
              "    </tr>\n",
              "  </tbody>\n",
              "</table>\n",
              "<p>4001 rows × 5 columns</p>\n",
              "</div>"
            ],
            "text/plain": [
              "           time  id      lon        lat      smooth\n",
              "12003   0.00000   4  3.06863  50.630941 -135.142647\n",
              "12004   0.02000   4  3.06863  50.630941 -133.507199\n",
              "12005   0.04000   4  3.06863  50.630941 -131.871751\n",
              "12006   0.06000   4  3.06863  50.630941 -130.236303\n",
              "12007   0.08000   4  3.06863  50.630941 -128.600855\n",
              "...         ...  ..      ...        ...         ...\n",
              "15999  79.92000   4  3.06863  50.630941 -135.347266\n",
              "16000  79.93999   4  3.06863  50.630941 -135.314153\n",
              "16001  79.96000   4  3.06863  50.630941 -135.281041\n",
              "16002  79.98000   4  3.06863  50.630941 -135.247928\n",
              "16003  80.00000   4  3.06863  50.630941 -135.214815\n",
              "\n",
              "[4001 rows x 5 columns]"
            ]
          },
          "execution_count": 16,
          "metadata": {},
          "output_type": "execute_result"
        }
      ],
      "source": [
        "df_single = df_smooth.loc[(df_smooth['id'] == 4)]\n",
        "print(df_single['smooth'].max())\n",
        "df_single\n"
      ]
    },
    {
      "cell_type": "code",
      "execution_count": 17,
      "metadata": {
        "id": "0Ykh8CHfpskJ"
      },
      "outputs": [],
      "source": [
        "def train_test_split(df, test_size=0.2):\n",
        "    split_row = len(df) - int(test_size * len(df))\n",
        "    train_data = df.iloc[:split_row]\n",
        "    test_data = df.iloc[split_row:]\n",
        "    return train_data, test_data"
      ]
    },
    {
      "cell_type": "code",
      "execution_count": 18,
      "metadata": {
        "id": "PWKGJlxIpskM"
      },
      "outputs": [],
      "source": [
        "train, test = train_test_split(df_single, test_size=0.2)"
      ]
    },
    {
      "cell_type": "code",
      "execution_count": 19,
      "metadata": {
        "id": "jqfrJbQhpskP"
      },
      "outputs": [],
      "source": [
        "def line_plot(line1, line2, label1=None, label2=None, title='', lw=2):\n",
        "    fig, ax = plt.subplots(1, figsize=(13, 7))\n",
        "    ax.plot(line1, label=label1, linewidth=lw)\n",
        "    ax.plot(line2, label=label2, linewidth=lw)\n",
        "    ax.set_ylabel('power', fontsize=14)\n",
        "    ax.set_xlabel('time', fontsize=14)\n",
        "    ax.set_title(title, fontsize=16)\n",
        "    ax.legend(loc='best', fontsize=16);"
      ]
    },
    {
      "cell_type": "code",
      "execution_count": 20,
      "metadata": {
        "colab": {
          "base_uri": "https://localhost:8080/",
          "height": 488
        },
        "id": "9F_YTCCxpskS",
        "outputId": "1cddaa9b-a00d-405b-9b00-be2440e19928"
      },
      "outputs": [
        {
          "name": "stdout",
          "output_type": "stream",
          "text": [
            "15890 -137.67451253944006\n"
          ]
        },
        {
          "data": {
            "image/png": "[encoded data removed]",
            "text/plain": [
              "<Figure size 936x504 with 1 Axes>"
            ]
          },
          "metadata": {
            "needs_background": "light"
          },
          "output_type": "display_data"
        }
      ],
      "source": [
        "line_plot(train['smooth'], test['smooth'], 'training', 'test', title='')\n",
        "print(df_single['smooth'].idxmin(), df_single['smooth'].min())\n"
      ]
    },
    {
      "cell_type": "code",
      "execution_count": null,
      "metadata": {
        "id": "aTBbhnezpskk"
      },
      "outputs": [],
      "source": [
        "def prepare_data(df, target_column, test_size=0.2):\n",
        "    train_data, test_data = train_test_split(df, test_size=test_size)\n",
        "    X_train = train_data['time']\n",
        "    X_test = test_data['time']\n",
        "    y_train = train_data[[target_column]]\n",
        "    y_test = test_data[[target_column]]\n",
        "    return train_data, test_data, X_train, X_test, y_train, y_test"
      ]
    },
    {
      "cell_type": "code",
      "execution_count": null,
      "metadata": {
        "id": "VjWtS2qJpskn"
      },
      "outputs": [],
      "source": [
        "def build_lstm_model(input_data, output_size, neurons=100, activ_func='linear',\n",
        "                     dropout=0.2, loss='mse', optimizer='adam'):\n",
        "    model = Sequential()\n",
        "    model.add(LSTM(neurons, input_shape = (1, 1)))\n",
        "    model.add(Dropout(dropout))\n",
        "    model.add(Dense(units=output_size))\n",
        "    model.add(Activation(activ_func))\n",
        "\n",
        "    model.compile(loss=loss, optimizer=optimizer)\n",
        "    return model"
      ]
    },
    {
      "cell_type": "code",
      "execution_count": null,
      "metadata": {
        "id": "aADcao3Qpskq"
      },
      "outputs": [],
      "source": [
        "# you can try different parameters if you want\n",
        "random.seed(42)\n",
        "test_size = 0.2\n",
        "lstm_neurons = 500\n",
        "epochs = 100\n",
        "batch_size = 256\n",
        "loss = 'mean_squared_error'\n",
        "dropout = 0.05\n",
        "optimizer = 'adam'"
      ]
    },
    {
      "cell_type": "code",
      "execution_count": null,
      "metadata": {
        "id": "rAw5VBtwpskt"
      },
      "outputs": [],
      "source": [
        "train, test, X_train, X_test, y_train, y_test = prepare_data(df, 'smooth', test_size=test_size)"
      ]
    },
    {
      "cell_type": "code",
      "execution_count": null,
      "metadata": {
        "colab": {
          "base_uri": "https://localhost:8080/"
        },
        "id": "E5T9OAwQpskw",
        "outputId": "d4f820cf-0a51-4103-91f7-a56a597a6cb9"
      },
      "outputs": [],
      "source": [
        "model = build_lstm_model(X_train, output_size=1, neurons=lstm_neurons, dropout=dropout, loss=loss, optimizer=optimizer)\n",
        "history = model.fit(X_train, y_train, epochs=epochs, batch_size=batch_size, validation_data=(X_test, y_test), verbose=1, shuffle=True)"
      ]
    },
    {
      "cell_type": "code",
      "execution_count": null,
      "metadata": {
        "colab": {
          "base_uri": "https://localhost:8080/",
          "height": 309
        },
        "id": "hwZESOuExhWe",
        "outputId": "aff48af1-61c3-4e0c-e4f5-398775985f45"
      },
      "outputs": [],
      "source": [
        "def loss_function(model):\n",
        "    plt.plot(model.history['loss'])\n",
        "    plt.plot(model.history['val_loss'])\n",
        "    plt.title(\"Model Loss\")\n",
        "    plt.xlabel('Epochs')\n",
        "    plt.ylabel('Loss')\n",
        "    plt.legend(['Train', 'Test'])\n",
        "    plt.show()\n",
        "\n",
        "history.history.keys\n",
        "loss_function(history)"
      ]
    },
    {
      "cell_type": "code",
      "execution_count": null,
      "metadata": {
        "colab": {
          "base_uri": "https://localhost:8080/"
        },
        "id": "mS6SPIGNpskz",
        "outputId": "166284f4-e162-4dda-bb29-3d3dec51b10d"
      },
      "outputs": [],
      "source": [
        "# cross-validation gives good-enough results\n",
        "# calculate the error between the predicted values and the test set values\n",
        "\n",
        "targets = test['smooth']\n",
        "preds = model.predict(X_test).squeeze()\n",
        "print('error:', round(mean_absolute_percentage_error(preds, y_test), 4), '%')"
      ]
    },
    {
      "cell_type": "code",
      "execution_count": null,
      "metadata": {
        "colab": {
          "base_uri": "https://localhost:8080/",
          "height": 471
        },
        "id": "4jU0wERepsk2",
        "outputId": "45c273e0-11bd-466d-cc7c-40a7213034e9"
      },
      "outputs": [],
      "source": [
        "preds = test['smooth'] * (preds + 1)\n",
        "preds = pd.Series(index=targets.index, data=preds)\n",
        "line_plot(targets, preds, 'actual', 'prediction', lw=3)"
      ]
    },
    {
      "cell_type": "code",
      "execution_count": null,
      "metadata": {},
      "outputs": [],
      "source": []
    }
  ],
  "metadata": {
    "colab": {
      "collapsed_sections": [],
      "name": "single-reciever.ipynb",
      "provenance": []
    },
    "interpreter": {
      "hash": "3b60532c23c6ca41da6fbacd7f54560635624209b788df571f69fe5231eedbfd"
    },
    "kernelspec": {
      "display_name": "Python 3.8.12 ('base')",
      "language": "python",
      "name": "python3"
    },
    "language_info": {
      "codemirror_mode": {
        "name": "ipython",
        "version": 3
      },
      "file_extension": ".py",
      "mimetype": "text/x-python",
      "name": "python",
      "nbconvert_exporter": "python",
      "pygments_lexer": "ipython3",
      "version": "3.8.12"
    }
  },
  "nbformat": 4,
  "nbformat_minor": 0
}
